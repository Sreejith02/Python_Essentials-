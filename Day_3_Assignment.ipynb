{
  "nbformat": 4,
  "nbformat_minor": 0,
  "metadata": {
    "colab": {
      "name": "Day - 3_Assignment",
      "provenance": []
    },
    "kernelspec": {
      "name": "python3",
      "display_name": "Python 3"
    },
    "language_info": {
      "name": "python"
    }
  },
  "cells": [
    {
      "cell_type": "code",
      "metadata": {
        "id": "0eDzd5jgSg5L"
      },
      "source": [
        "#Assignment Question\n",
        "'''\n",
        "Consider a person is represented by Pi, where i is the index of the following list.\n",
        "A list shows the person to whom person Pi has given the gift.\n",
        "\n",
        "Consider the below example:\n",
        "gift_presented_to = [2, 1, 5, 3, 4]\n",
        "\n",
        "This list is giving us the following details:\n",
        "Person P1 has given gift to person P2\n",
        "Person P2 has given gift to person P1\n",
        "Person P3 has given gift to person P5\n",
        "Person P4 has given gift to person P3\n",
        "Person P5 has given gift to person P4\n",
        "\n",
        "So for the given list, the list of persons from whom they have received the gift would be \n",
        "gift_received_from = [2, 1, 4, 5, 3]\n",
        "\n",
        "i.e.\n",
        "Person P1 has received gift from person P2\n",
        "Person P2 has received gift from person P1\n",
        "Person P3 has received gift from person P4\n",
        "Person P4 has received gift from person P5\n",
        "Person P5 has received gift from person P3\n",
        "\n",
        "Your task:\n",
        "\n",
        "Take input for the gift_presented_to[] list and print its respective gift_received_from[] list.\n",
        "'''"
      ],
      "execution_count": null,
      "outputs": []
    },
    {
      "cell_type": "code",
      "metadata": {
        "colab": {
          "base_uri": "https://localhost:8080/"
        },
        "id": "u2GWJiBaRU9A",
        "outputId": "c5cb1f09-3d59-4645-8dce-46eff3f7e73f"
      },
      "source": [
        "#list of gifts given to the respective persons\n",
        "person_list={'1':2, '2':1, '3':4, '4':5, '5':3}\n",
        "print(person_list.values())"
      ],
      "execution_count": 5,
      "outputs": [
        {
          "output_type": "stream",
          "text": [
            "dict_values([2, 1, 4, 5, 3])\n"
          ],
          "name": "stdout"
        }
      ]
    },
    {
      "cell_type": "code",
      "metadata": {
        "colab": {
          "base_uri": "https://localhost:8080/"
        },
        "id": "5_A9nAe2SPfj",
        "outputId": "3e369810-e342-4123-ccbf-3ed716faa57a"
      },
      "source": [
        "person_list={1:2, 2:1, 3:4, 4:5, 5:3, 3:2}\n",
        "print(sorted(person_list))"
      ],
      "execution_count": 6,
      "outputs": [
        {
          "output_type": "stream",
          "text": [
            "[1, 2, 3, 4, 5]\n"
          ],
          "name": "stdout"
        }
      ]
    }
  ]
}