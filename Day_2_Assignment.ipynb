{
  "nbformat": 4,
  "nbformat_minor": 0,
  "metadata": {
    "colab": {
      "name": "Day-2_Assignment.ipynb",
      "provenance": []
    },
    "kernelspec": {
      "name": "python3",
      "display_name": "Python 3"
    },
    "language_info": {
      "name": "python"
    }
  },
  "cells": [
    {
      "cell_type": "code",
      "metadata": {
        "colab": {
          "base_uri": "https://localhost:8080/"
        },
        "id": "3ketjaKMztug",
        "outputId": "cbe736e1-93af-4367-b895-eb6fb89b3afd"
      },
      "source": [
        "#DAY 2 ASSIGNMENT\n",
        "# Question 1\n",
        "# Remove all occurrences of an element in a list.\n",
        "li=[1,2,3,3,4]\n",
        "print(li)\n",
        "list(filter(lambda a:a!=3,li))\n",
        "\n",
        "\n",
        "\n"
      ],
      "execution_count": 60,
      "outputs": [
        {
          "output_type": "stream",
          "text": [
            "[1, 2, 3, 3, 4]\n"
          ],
          "name": "stdout"
        },
        {
          "output_type": "execute_result",
          "data": {
            "text/plain": [
              "[1, 2, 4]"
            ]
          },
          "metadata": {
            "tags": []
          },
          "execution_count": 60
        }
      ]
    },
    {
      "cell_type": "code",
      "metadata": {
        "colab": {
          "base_uri": "https://localhost:8080/"
        },
        "id": "ormNVH8C9-yi",
        "outputId": "07092778-54ca-4145-ccba-1dcdf0ed6823"
      },
      "source": [
        "# Question 2\n",
        "# Check whether a string is pangram.\n",
        "import string\n",
        "def ispangram(str):\n",
        "   alphabet = \"abcdefghijklmnopqrstuvwxyz\"\n",
        "   for char in alphabet:\n",
        "      if char not in str.lower():\n",
        "         return False\n",
        "   return True\n",
        "string = 'The quick brown fox jumps over the lazy dog.'\n",
        "if(ispangram(string) == True):\n",
        "   print(\"Yes\")\n",
        "else:\n",
        "   print(\"No\")\n"
      ],
      "execution_count": 63,
      "outputs": [
        {
          "output_type": "stream",
          "text": [
            "Yes\n"
          ],
          "name": "stdout"
        }
      ]
    },
    {
      "cell_type": "code",
      "metadata": {
        "colab": {
          "base_uri": "https://localhost:8080/"
        },
        "id": "4ftdYxiN-IbH",
        "outputId": "851f9dbf-0e3d-465f-b485-ef6e5304e1ce"
      },
      "source": [
        "# Project: OTP Generator\n",
        "import random as r\n",
        "import string\n",
        "length = 8\n",
        "otp = ''\n",
        "characters = string.ascii_letters + string.digits\n",
        "for i in range(length):\n",
        "  otp = otp + r.choice(characters)\n",
        "print(\"OTP:\", otp)"
      ],
      "execution_count": 62,
      "outputs": [
        {
          "output_type": "stream",
          "text": [
            "OTP: 7xaWfnua\n"
          ],
          "name": "stdout"
        }
      ]
    },
    {
      "cell_type": "markdown",
      "metadata": {
        "id": "eUc74dW699Ff"
      },
      "source": [
        ""
      ]
    }
  ]
}