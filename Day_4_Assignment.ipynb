{
  "nbformat": 4,
  "nbformat_minor": 0,
  "metadata": {
    "colab": {
      "name": "Day - 4_Assignment.ipynb",
      "provenance": []
    },
    "kernelspec": {
      "name": "python3",
      "display_name": "Python 3"
    },
    "language_info": {
      "name": "python"
    }
  },
  "cells": [
    {
      "cell_type": "code",
      "metadata": {
        "colab": {
          "base_uri": "https://localhost:8080/",
          "height": 0
        },
        "id": "1xJki_q6TG58",
        "outputId": "d2998f3b-cf64-4902-9337-d70ae6ce13a7"
      },
      "source": [
        "# Assignment 4(Final project)\n",
        "#Python program to convert Centigrade to Fahrenheit\n",
        "\n",
        "import math\n",
        "c=int(input(\"Enter tempurature in degree celsius is:\"))\n",
        "f=int(c*9/5)+32\n",
        "print('The temperature in degree fahrenheit is:',f)"
      ],
      "execution_count": 8,
      "outputs": [
        {
          "output_type": "stream",
          "text": [
            "Enter tempurature in degree celsius is:50\n",
            "The temperature in degree fahrenheit is: 122\n"
          ],
          "name": "stdout"
        }
      ]
    }
  ]
}