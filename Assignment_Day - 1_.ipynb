{
  "nbformat": 4,
  "nbformat_minor": 0,
  "metadata": {
    "colab": {
      "name": "Assignment  1 .ipynb",
      "provenance": []
    },
    "kernelspec": {
      "name": "python3",
      "display_name": "Python 3"
    },
    "language_info": {
      "name": "python"
    }
  },
  "cells": [
    {
      "cell_type": "code",
      "metadata": {
        "colab": {
          "base_uri": "https://localhost:8080/"
        },
        "id": "OzqpvV6Gp9LZ",
        "outputId": "1e2378d1-1981-4626-b646-d53e6459cc1c"
      },
      "source": [
        "# Question 1\n",
        "\n",
        "# Take input for a list and sort it in descending order.\n",
        "\n",
        "li = [int(i) for i in input('enter values:').split()]\n",
        "li.sort (reverse=True)\n",
        "print(li)"
      ],
      "execution_count": 27,
      "outputs": [
        {
          "output_type": "stream",
          "text": [
            "enter values:0 25 250 600 50 1000 10 75 852 1234\n",
            "[1234, 1000, 852, 600, 250, 75, 50, 25, 10, 0]\n"
          ],
          "name": "stdout"
        }
      ]
    }
  ]
}
